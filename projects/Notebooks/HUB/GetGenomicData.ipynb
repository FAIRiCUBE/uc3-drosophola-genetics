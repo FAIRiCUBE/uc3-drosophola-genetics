{
 "cells": [
  {
   "cell_type": "markdown",
   "id": "17f2e3f0-b89b-4396-9505-4d63bec00180",
   "metadata": {},
   "source": [
    "### Download VCF from DEST.bio and extract samplenames "
   ]
  },
  {
   "cell_type": "markdown",
   "id": "3207c0c2-0e1b-44a0-ae71-bd8e1d5a46f1",
   "metadata": {},
   "source": [
    "DEST.bio is the data source for Drosophila data from Europe from the DrosEU consortium. See here: https://dest.bio/ https://droseu.net/. Please down- or upload your genomic data in the following section. The corresponding samps.csv file is carrying information on latitude, longitude, number of flies in the PoolSeq sample and other metadata. Intersection of genomic data with \"metadata\" is based on sampleIDs in the CSV and the VCF file."
   ]
  },
  {
   "cell_type": "markdown",
   "id": "aea45fd3-a145-426e-8114-95bc93475feb",
   "metadata": {},
   "source": [
    "### Download genomic data from DrosEU (DEST.bio)"
   ]
  },
  {
   "cell_type": "code",
   "execution_count": null,
   "id": "3de13e13-4d86-4e46-93f5-ccf7420f21df",
   "metadata": {},
   "outputs": [],
   "source": [
    "# Please make sure to get the latest version of your genomcic data\n",
    "# Here we are using the DroseEU DEST data set from 2023\n",
    "!cd \"PATH/TO/DESIRED/DIRECTORY\"\n",
    "!wget --tries=inf \"http://berglandlab.uvadcos.io/gds/dest.all.PoolSNP.001.50.25Feb2023.norep.vcf.gz\"\n",
    "!wget \"https://raw.githubusercontent.com/DEST-bio/DESTv2/main/populationInfo/dest_v2.samps_3May2024.csv\"\n",
    "!wget --tries=inf \"http://ftp.flybase.net/genomes/Drosophila_melanogaster/current/gff/dmel-all-r6.57.gff.gz\"\n",
    "\n",
    "## Extract the information on the available samples\n",
    "!awk '{FS=\",\"}{if (NR!=1) {print $1}}' dest_v2.samps_3May2024.csv > samplenames.csv\n",
    "!mv data/dest.all.PoolSNP.001.50.25Feb2023.norep.vcf.gz PoolSeq2023.vcf.gz"
   ]
  }
 ],
 "metadata": {
  "kernelspec": {
   "display_name": "fairicube-edc-2022.10-14",
   "language": "python",
   "name": "conda-env-fairicube-edc-2022.10-14-py"
  },
  "language_info": {
   "codemirror_mode": {
    "name": "ipython",
    "version": 3
   },
   "file_extension": ".py",
   "mimetype": "text/x-python",
   "name": "python",
   "nbconvert_exporter": "python",
   "pygments_lexer": "ipython3",
   "version": "3.9.15"
  }
 },
 "nbformat": 4,
 "nbformat_minor": 5
}
