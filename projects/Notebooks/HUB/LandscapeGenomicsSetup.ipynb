{
 "cells": [
  {
   "cell_type": "code",
   "execution_count": 2,
   "id": "ca6be4e8-a9a0-48c6-8455-76e5119a8e84",
   "metadata": {
    "tags": []
   },
   "outputs": [],
   "source": [
    "import sys\n",
    "import os"
   ]
  },
  {
   "cell_type": "code",
   "execution_count": 3,
   "id": "6af93f2b-51ea-43cb-aa48-453a7175e50e",
   "metadata": {
    "tags": []
   },
   "outputs": [
    {
     "name": "stdout",
     "output_type": "stream",
     "text": [
      "Current Working Directory: /home/sonjastndl/s3\n"
     ]
    }
   ],
   "source": [
    "# Get the current working directory\n",
    "current_directory = os.getcwd()\n",
    "\n",
    "# Print the current working directory\n",
    "print(\"Current Working Directory:\", current_directory)"
   ]
  },
  {
   "cell_type": "code",
   "execution_count": 4,
   "id": "4d3e545e-8eab-4f2e-ab95-9a59793bae31",
   "metadata": {
    "tags": []
   },
   "outputs": [
    {
     "name": "stdout",
     "output_type": "stream",
     "text": [
      "TEST2\n"
     ]
    },
    {
     "data": {
      "text/plain": [
       "CompletedProcess(args=['bash', './test2/testscript2.sh'], returncode=0)"
      ]
     },
     "execution_count": 4,
     "metadata": {},
     "output_type": "execute_result"
    }
   ],
   "source": [
    "#import subprocess\n",
    "#script_path = \"./test2/testscript2.sh\" \n",
    "#subprocess.run([\"bash\", script_path], check=True)"
   ]
  },
  {
   "cell_type": "code",
   "execution_count": 5,
   "id": "078cfee0-817f-426c-b36f-aad353c998c5",
   "metadata": {
    "collapsed": true,
    "jupyter": {
     "outputs_hidden": true
    },
    "tags": []
   },
   "outputs": [
    {
     "name": "stdout",
     "output_type": "stream",
     "text": [
      "usage: conda-env [-h] {create,export,list,remove,update,config} ...\n",
      "conda-env: error: argument {create,export,list,remove,update,config}: invalid choice: 'info' (choose from 'create', 'export', 'list', 'remove', 'update', 'config')\n",
      "\n",
      "Note: you may need to restart the kernel to use updated packages.\n"
     ]
    }
   ],
   "source": [
    "conda env info"
   ]
  },
  {
   "cell_type": "code",
   "execution_count": 6,
   "id": "1cb74a50-e070-42a1-afdd-ddcd5f26f272",
   "metadata": {
    "collapsed": true,
    "jupyter": {
     "outputs_hidden": true
    },
    "tags": []
   },
   "outputs": [
    {
     "name": "stdout",
     "output_type": "stream",
     "text": [
      "# conda environments:\n",
      "#\n",
      "edc-2022.10-14        *  /home/conda/fairicube/envs/edc-2022.10-14\n",
      "edc-2023.03-02           /home/conda/fairicube/envs/edc-2023.03-02\n",
      "edc-g-2023.10-01         /home/conda/fairicube/envs/edc-g-2023.10-01\n",
      "TestEnv                  /home/sonjastndl/.conda/envs/TestEnv\n",
      "nhm_r                    /home/sonjastndl/.conda/envs/nhm_r\n",
      "test-env                 /home/sonjastndl/.conda/envs/test-env\n",
      "vcftools                 /home/sonjastndl/.conda/envs/vcftools\n",
      "base                     /opt/conda\n",
      "default                  /opt/conda/envs/default\n",
      "\n",
      "\n",
      "Note: you may need to restart the kernel to use updated packages.\n"
     ]
    }
   ],
   "source": [
    "conda info --envs"
   ]
  },
  {
   "cell_type": "code",
   "execution_count": 3,
   "id": "9a541bb6-a34e-45c0-86b7-c1442e62a8de",
   "metadata": {
    "tags": []
   },
   "outputs": [
    {
     "name": "stdout",
     "output_type": "stream",
     "text": [
      "Defaulting to user installation because normal site-packages is not writeable\n",
      "Collecting git+https://github.com/sanger-pathogens/SnpEffWrapper.git\n",
      "  Cloning https://github.com/sanger-pathogens/SnpEffWrapper.git to /tmp/pip-req-build-e_6c6nf4\n",
      "  Running command git clone --filter=blob:none --quiet https://github.com/sanger-pathogens/SnpEffWrapper.git /tmp/pip-req-build-e_6c6nf4\n",
      "  Resolved https://github.com/sanger-pathogens/SnpEffWrapper.git to commit 040da8e9b1116e45b6d3e89c689dadb9b2ba2fdf\n",
      "  Preparing metadata (setup.py) ... \u001b[?25lerror\n",
      "  \u001b[1;31merror\u001b[0m: \u001b[1msubprocess-exited-with-error\u001b[0m\n",
      "  \n",
      "  \u001b[31m×\u001b[0m \u001b[32mpython setup.py egg_info\u001b[0m did not run successfully.\n",
      "  \u001b[31m│\u001b[0m exit code: \u001b[1;36m1\u001b[0m\n",
      "  \u001b[31m╰─>\u001b[0m \u001b[31m[1 lines of output]\u001b[0m\n",
      "  \u001b[31m   \u001b[0m error in snpEffWrapper setup command: \"values of 'package_data' dict\" must be a list of strings (got 'snpEffWrapper/data/*')\n",
      "  \u001b[31m   \u001b[0m \u001b[31m[end of output]\u001b[0m\n",
      "  \n",
      "  \u001b[1;35mnote\u001b[0m: This error originates from a subprocess, and is likely not a problem with pip.\n",
      "\u001b[1;31merror\u001b[0m: \u001b[1mmetadata-generation-failed\u001b[0m\n",
      "\n",
      "\u001b[31m×\u001b[0m Encountered error while generating package metadata.\n",
      "\u001b[31m╰─>\u001b[0m See above for output.\n",
      "\n",
      "\u001b[1;35mnote\u001b[0m: This is an issue with the package mentioned above, not pip.\n",
      "\u001b[1;36mhint\u001b[0m: See above for details.\n",
      "\u001b[?25h"
     ]
    }
   ],
   "source": [
    "!pip install git+https://github.com/sanger-pathogens/SnpEffWrapper.git"
   ]
  },
  {
   "cell_type": "code",
   "execution_count": null,
   "id": "e693e866-0317-4cb7-ad06-6d0d20409a9e",
   "metadata": {},
   "outputs": [],
   "source": [
    "!Rscript /home/sonjastndl/s3/LGA/Run_LeaInstallation.sh"
   ]
  }
 ],
 "metadata": {
  "kernelspec": {
   "display_name": "fairicube-edc-2022.10-14",
   "language": "python",
   "name": "conda-env-fairicube-edc-2022.10-14-py"
  },
  "language_info": {
   "codemirror_mode": {
    "name": "ipython",
    "version": 3
   },
   "file_extension": ".py",
   "mimetype": "text/x-python",
   "name": "python",
   "nbconvert_exporter": "python",
   "pygments_lexer": "ipython3",
   "version": "3.9.15"
  }
 },
 "nbformat": 4,
 "nbformat_minor": 5
}
